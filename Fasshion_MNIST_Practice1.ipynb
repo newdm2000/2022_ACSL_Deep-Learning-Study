{
 "cells": [
  {
   "cell_type": "code",
   "execution_count": 27,
   "metadata": {},
   "outputs": [
    {
     "name": "stdout",
     "output_type": "stream",
     "text": [
      "(60000, 28, 28) (60000,) (10000, 28, 28) (10000,)\n"
     ]
    }
   ],
   "source": [
    "from tensorflow.keras.datasets import fashion_mnist\n",
    "import numpy as np\n",
    "import pandas as pd\n",
    "\n",
    "(train_images, train_labels), (test_images, test_labels) = fashion_mnist.load_data()\n",
    "\n",
    "print(train_images.shape, train_labels.shape, test_images.shape, test_labels.shape)"
   ]
  },
  {
   "cell_type": "code",
   "execution_count": 28,
   "metadata": {},
   "outputs": [
    {
     "data": {
      "text/plain": [
       "Text(0.5, 1.0, '9')"
      ]
     },
     "execution_count": 28,
     "metadata": {},
     "output_type": "execute_result"
    },
    {
     "data": {
      "image/png": "[encoded data removed]",
      "text/plain": [
       "<Figure size 432x288 with 1 Axes>"
      ]
     },
     "metadata": {
      "needs_background": "light"
     },
     "output_type": "display_data"
    }
   ],
   "source": [
    "import matplotlib.pyplot as plt\n",
    "%matplotlib inline\n",
    "\n",
    "plt.imshow(train_images[0], cmap=\"gray\")\n",
    "plt.title(train_labels[0])"
   ]
  },
  {
   "cell_type": "code",
   "execution_count": 29,
   "metadata": {},
   "outputs": [],
   "source": [
    "def get_preprocessed_image(images, labels):\n",
    "    images = np.array(images/255.0, dtype=np.float32)\n",
    "    labels = np.array(labels, dtype=np.float32)\n",
    "    \n",
    "    return images, labels\n",
    "\n",
    "train_x, train_y = get_preprocessed_image(train_images, train_labels)\n",
    "#val_x, val_y = get_preprocessed_image(test_images, test_labels)"
   ]
  },
  {
   "cell_type": "code",
   "execution_count": 30,
   "metadata": {},
   "outputs": [],
   "source": [
    "from tensorflow.keras.utils import to_categorical\n",
    "\n",
    "train_y = to_categorical(train_y)\n",
    "#val_y = to_categorical(val_y)"
   ]
  },
  {
   "cell_type": "code",
   "execution_count": 31,
   "metadata": {},
   "outputs": [
    {
     "name": "stdout",
     "output_type": "stream",
     "text": [
      "Model: \"sequential_5\"\n",
      "_________________________________________________________________\n",
      " Layer (type)                Output Shape              Param #   \n",
      "=================================================================\n",
      " flatten_5 (Flatten)         (None, 784)               0         \n",
      "                                                                 \n",
      " dense_15 (Dense)            (None, 32)                25120     \n",
      "                                                                 \n",
      " dense_16 (Dense)            (None, 16)                528       \n",
      "                                                                 \n",
      " dense_17 (Dense)            (None, 10)                170       \n",
      "                                                                 \n",
      "=================================================================\n",
      "Total params: 25,818\n",
      "Trainable params: 25,818\n",
      "Non-trainable params: 0\n",
      "_________________________________________________________________\n"
     ]
    }
   ],
   "source": [
    "import tensorflow as tf\n",
    "from tensorflow.keras.models import Sequential\n",
    "from tensorflow.keras.layers import Dense, Flatten\n",
    "\n",
    "image_size = 28\n",
    "\n",
    "model = Sequential([\n",
    "    Flatten(input_shape=(image_size, image_size)),\n",
    "    Dense(32, activation='relu'),\n",
    "    Dense(16, activation='relu'),\n",
    "    Dense(10, activation='softmax')\n",
    "])\n",
    "\n",
    "model.summary()\n"
   ]
  },
  {
   "cell_type": "code",
   "execution_count": 32,
   "metadata": {},
   "outputs": [],
   "source": [
    "from tensorflow.keras.optimizers import Adam\n",
    "from tensorflow.keras.losses import categorical_crossentropy\n",
    "from tensorflow.keras.metrics import Accuracy\n",
    "\n",
    "model.compile(optimizer='adam', loss = 'categorical_crossentropy', metrics=['accuracy'])"
   ]
  },
  {
   "cell_type": "code",
   "execution_count": 35,
   "metadata": {},
   "outputs": [
    {
     "name": "stdout",
     "output_type": "stream",
     "text": [
      "Epoch 1/30\n",
      "1875/1875 [==============================] - 6s 3ms/step - loss: 0.2960 - accuracy: 0.8922 - val_loss: 0.3592 - val_accuracy: 0.8716\n",
      "Epoch 2/30\n",
      "1875/1875 [==============================] - 6s 3ms/step - loss: 0.2878 - accuracy: 0.8949 - val_loss: 0.3623 - val_accuracy: 0.8673\n",
      "Epoch 3/30\n",
      "1875/1875 [==============================] - 6s 3ms/step - loss: 0.2852 - accuracy: 0.8939 - val_loss: 0.3686 - val_accuracy: 0.8627\n",
      "Epoch 4/30\n",
      "1875/1875 [==============================] - 6s 3ms/step - loss: 0.2803 - accuracy: 0.8964 - val_loss: 0.3606 - val_accuracy: 0.8719\n",
      "Epoch 5/30\n",
      "1875/1875 [==============================] - 6s 3ms/step - loss: 0.2755 - accuracy: 0.8976 - val_loss: 0.3705 - val_accuracy: 0.8699\n",
      "Epoch 6/30\n",
      "1875/1875 [==============================] - 6s 3ms/step - loss: 0.2699 - accuracy: 0.9003 - val_loss: 0.3780 - val_accuracy: 0.8666\n",
      "Epoch 7/30\n",
      "1875/1875 [==============================] - 6s 3ms/step - loss: 0.2673 - accuracy: 0.9013 - val_loss: 0.3519 - val_accuracy: 0.8734\n",
      "Epoch 8/30\n",
      "1875/1875 [==============================] - 6s 3ms/step - loss: 0.2645 - accuracy: 0.9009 - val_loss: 0.3530 - val_accuracy: 0.8732\n",
      "Epoch 9/30\n",
      "1875/1875 [==============================] - 6s 3ms/step - loss: 0.2608 - accuracy: 0.9045 - val_loss: 0.3594 - val_accuracy: 0.8728\n",
      "Epoch 10/30\n",
      "1875/1875 [==============================] - 6s 3ms/step - loss: 0.2577 - accuracy: 0.9037 - val_loss: 0.3811 - val_accuracy: 0.8699\n",
      "Epoch 11/30\n",
      "1875/1875 [==============================] - 6s 3ms/step - loss: 0.2539 - accuracy: 0.9059 - val_loss: 0.3682 - val_accuracy: 0.8742\n",
      "Epoch 12/30\n",
      "1875/1875 [==============================] - 6s 3ms/step - loss: 0.2511 - accuracy: 0.9061 - val_loss: 0.3670 - val_accuracy: 0.8695\n",
      "Epoch 13/30\n",
      "1875/1875 [==============================] - 6s 3ms/step - loss: 0.2483 - accuracy: 0.9069 - val_loss: 0.3580 - val_accuracy: 0.8779\n",
      "Epoch 14/30\n",
      "1875/1875 [==============================] - 6s 3ms/step - loss: 0.2469 - accuracy: 0.9080 - val_loss: 0.3664 - val_accuracy: 0.8713\n",
      "Epoch 15/30\n",
      "1875/1875 [==============================] - 6s 3ms/step - loss: 0.2441 - accuracy: 0.9100 - val_loss: 0.3781 - val_accuracy: 0.8714\n",
      "Epoch 16/30\n",
      "1875/1875 [==============================] - 6s 3ms/step - loss: 0.2414 - accuracy: 0.9093 - val_loss: 0.3760 - val_accuracy: 0.8685\n",
      "Epoch 17/30\n",
      "1875/1875 [==============================] - 6s 3ms/step - loss: 0.2404 - accuracy: 0.9115 - val_loss: 0.3890 - val_accuracy: 0.8721\n",
      "Epoch 18/30\n",
      "1875/1875 [==============================] - 5s 3ms/step - loss: 0.2387 - accuracy: 0.9112 - val_loss: 0.3853 - val_accuracy: 0.8707\n",
      "Epoch 19/30\n",
      "1875/1875 [==============================] - 6s 3ms/step - loss: 0.2359 - accuracy: 0.9119 - val_loss: 0.3849 - val_accuracy: 0.8727\n",
      "Epoch 20/30\n",
      "1875/1875 [==============================] - 6s 3ms/step - loss: 0.2326 - accuracy: 0.9131 - val_loss: 0.3941 - val_accuracy: 0.8686\n",
      "Epoch 21/30\n",
      "1875/1875 [==============================] - 6s 3ms/step - loss: 0.2319 - accuracy: 0.9139 - val_loss: 0.3859 - val_accuracy: 0.8715\n",
      "Epoch 22/30\n",
      "1875/1875 [==============================] - 6s 3ms/step - loss: 0.2304 - accuracy: 0.9151 - val_loss: 0.3626 - val_accuracy: 0.8784\n",
      "Epoch 23/30\n",
      "1875/1875 [==============================] - 6s 3ms/step - loss: 0.2286 - accuracy: 0.9153 - val_loss: 0.4230 - val_accuracy: 0.8663\n",
      "Epoch 24/30\n",
      "1875/1875 [==============================] - 5s 3ms/step - loss: 0.2267 - accuracy: 0.9164 - val_loss: 0.3938 - val_accuracy: 0.8688\n",
      "Epoch 25/30\n",
      "1875/1875 [==============================] - 6s 3ms/step - loss: 0.2253 - accuracy: 0.9158 - val_loss: 0.3942 - val_accuracy: 0.8719\n",
      "Epoch 26/30\n",
      "1875/1875 [==============================] - 6s 3ms/step - loss: 0.2225 - accuracy: 0.9178 - val_loss: 0.3774 - val_accuracy: 0.8750\n",
      "Epoch 27/30\n",
      "1875/1875 [==============================] - 6s 3ms/step - loss: 0.2223 - accuracy: 0.9176 - val_loss: 0.3961 - val_accuracy: 0.8685\n",
      "Epoch 28/30\n",
      "1875/1875 [==============================] - 6s 3ms/step - loss: 0.2200 - accuracy: 0.9189 - val_loss: 0.4085 - val_accuracy: 0.8685\n",
      "Epoch 29/30\n",
      "1875/1875 [==============================] - 6s 3ms/step - loss: 0.2187 - accuracy: 0.9179 - val_loss: 0.3851 - val_accuracy: 0.8725\n",
      "Epoch 30/30\n",
      "1875/1875 [==============================] - 5s 2ms/step - loss: 0.2180 - accuracy: 0.9186 - val_loss: 0.4154 - val_accuracy: 0.8711\n"
     ]
    }
   ],
   "source": [
    "epochs = 30\n",
    "batch_size = 32\n",
    "\n",
    "history = model.fit(train_x, train_y, batch_size=batch_size, epochs=epochs, verbose=1)"
   ]
  },
  {
   "cell_type": "code",
   "execution_count": null,
   "metadata": {},
   "outputs": [],
   "source": [
    "import matplotlib.pyplot as plt\n",
    "\n",
    "plt."
   ]
  }
 ],
 "metadata": {
  "interpreter": {
   "hash": "be86b7a0bbee8159292bbe5beba6becec41d0a46965f9db9cfacd6f4ca388829"
  },
  "kernelspec": {
   "display_name": "Python 3.9.9 64-bit",
   "language": "python",
   "name": "python3"
  },
  "language_info": {
   "codemirror_mode": {
    "name": "ipython",
    "version": 3
   },
   "file_extension": ".py",
   "mimetype": "text/x-python",
   "name": "python",
   "nbconvert_exporter": "python",
   "pygments_lexer": "ipython3",
   "version": "3.9.9"
  },
  "orig_nbformat": 4
 },
 "nbformat": 4,
 "nbformat_minor": 2
}
